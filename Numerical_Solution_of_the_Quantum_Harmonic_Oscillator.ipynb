{
  "nbformat": 4,
  "nbformat_minor": 0,
  "metadata": {
    "colab": {
      "name": "Numerical Solution of the Quantum Harmonic Oscillator.ipynb",
      "provenance": [],
      "collapsed_sections": [],
      "authorship_tag": "ABX9TyNwb1kX1YqYq3J/QD9Q1A7O",
      "include_colab_link": true
    },
    "kernelspec": {
      "name": "python3",
      "display_name": "Python 3"
    }
  },
  "cells": [
    {
      "cell_type": "markdown",
      "metadata": {
        "id": "view-in-github",
        "colab_type": "text"
      },
      "source": [
        "<a href=\"https://colab.research.google.com/github/AstrophyJimmy/1D_Harmonic_Oscillator_Solution_Simulation/blob/main/Numerical_Solution_of_the_Quantum_Harmonic_Oscillator.ipynb\" target=\"_parent\"><img src=\"https://colab.research.google.com/assets/colab-badge.svg\" alt=\"Open In Colab\"/></a>"
      ]
    },
    {
      "cell_type": "markdown",
      "metadata": {
        "id": "NBZhJ4fkbwyr"
      },
      "source": [
        "# Numerical Solution of the Quantum Harmonic Oscillator using Finite Difference Method\n"
      ]
    },
    {
      "cell_type": "markdown",
      "metadata": {
        "id": "bpfNlVkgb7Sw"
      },
      "source": [
        "1D Problem reads: \n",
        "$$\\big(-\\tfrac{\\hbar}{2m}\\tfrac{\\partial^2}{\\partial x^2} + \\tfrac{m\\omega}{2}x^2  \\big)\\psi_n(x)=E_n\\psi_n(x)$$\n",
        "\n",
        "The problem is now on the Form: \n",
        "$$\\Sigma_j \\cal{H}_{ij}\\psi_n(x_j)=E_n\\psi_n(x_i)$$\n",
        "\n",
        "Will approximate the second derivative using the Finite Difference Method: \n",
        "\n",
        "$$\\tfrac{\\partial^2\\psi}{\\partial x^2}\\approx\\tfrac{\\psi(x_{i+1})+\\psi(x_{i-1})-2\\psi(x_{i})}{(\\Delta x)^2}$$\n",
        "\n",
        "Then the Kinetic Term of the potential is \n",
        "\n",
        "\n",
        "Then we'll be able to construct the matrix $\\cal{H}$\n",
        "$$\\hat{\\cal{H}}_{i,i} = V_i + \\dfrac{1}{{\\Delta x}^2} $$$$\\hat{\\cal{H}}_{i,i+1} =-\\dfrac{1}{2{\\Delta x}^2}$$$$\\hat{\\cal{H}}_{i,i-1} =-\\dfrac{1}{2{\\Delta x}^2}$$\n",
        "\n",
        "Subjected to the Boundary Conditions $\\psi(x_1)=\\psi(x_N)=0$\n",
        "\n"
      ]
    },
    {
      "cell_type": "code",
      "metadata": {
        "id": "JPjnU4BQ2B3F"
      },
      "source": [
        "import numpy as np\n",
        "import matplotlib.pyplot as plt\n",
        "from scipy.integrate import trapz\n",
        "from scipy.linalg import eig\n",
        "import random\n",
        "from numpy import exp as e\n",
        "from numpy import pi\n",
        "from google.colab import files"
      ],
      "execution_count": null,
      "outputs": []
    },
    {
      "cell_type": "code",
      "metadata": {
        "id": "Yqfe88EUNT41",
        "outputId": "5a4c31b2-39cf-491d-aad6-1e07b94c7499",
        "colab": {
          "base_uri": "https://localhost:8080/",
          "height": 411
        }
      },
      "source": [
        "l=10\n",
        "N = 1001\n",
        "x=np.linspace(l,-l,N)\n",
        "\n",
        "def oscillator(x, omega=1, m=1):\n",
        "  dx = x[0]-x[1]\n",
        "  lx = x.size - 2 #Subjection to Boundary Conditions\n",
        "\n",
        "  V = np.zeros(lx)\n",
        "  for i in range(lx):\n",
        "      V[i]=np.power(x[i+1],2)/2\n",
        "  V = V*m*omega\n",
        "\n",
        "  H = np.zeros([lx,lx])\n",
        "  for i in range(lx):    \n",
        "      H[i,i] = 1/(np.power(dx,2)*m)+ V[i]\n",
        "      if lx-i-1: H[i,i+1] = -1/(2*m*np.power(dx,2))\n",
        "      if i: H[i,i-1] = -1/(2*m*np.power(dx,2))\n",
        "\n",
        "  E, psi = eig(H)\n",
        "  idx = np.argsort(E)\n",
        "  E = np.round(np.real(E[idx]),5)\n",
        "  psi = psi[:, idx]\n",
        "\n",
        "  psiNormalized = np.zeros_like(psi)\n",
        "  for i in range(N-2):\n",
        "    normFactor = trapz(psi[:,i]**2,dx=dx)\n",
        "    psiNormalized[:,i]=  psi[:,i]/np.sqrt(normFactor)\n",
        "\n",
        "  return E, psiNormalized\n",
        "\n",
        "E, psiNormalized = oscillator(x)\n",
        "\n",
        "fig = plt.figure(figsize=(8,6))\n",
        "plt.title('Wavefunctions for 1D Hamonic Oscillators',fontsize=16)\n",
        "plt.ylabel(r'$\\psi_n$',fontsize=15)\n",
        "plt.xlabel(r'$x$',fontsize=15)\n",
        "for i in range(3):\n",
        "  plt.plot(x,np.hstack([0,psiNormalized[:,i],0]),label = 'n = '+str(i))\n",
        "plt.grid(alpha=0.2)\n",
        "plt.legend(fontsize=15)\n",
        "fig.show()\n",
        "plt.savefig(\"Num Sol for QHO in 1D.png\", dpi=300)\n",
        "files.download(\"Num Sol for QHO in 1D.png\")"
      ],
      "execution_count": null,
      "outputs": [
        {
          "output_type": "display_data",
          "data": {
            "application/javascript": [
              "\n",
              "    async function download(id, filename, size) {\n",
              "      if (!google.colab.kernel.accessAllowed) {\n",
              "        return;\n",
              "      }\n",
              "      const div = document.createElement('div');\n",
              "      const label = document.createElement('label');\n",
              "      label.textContent = `Downloading \"${filename}\": `;\n",
              "      div.appendChild(label);\n",
              "      const progress = document.createElement('progress');\n",
              "      progress.max = size;\n",
              "      div.appendChild(progress);\n",
              "      document.body.appendChild(div);\n",
              "\n",
              "      const buffers = [];\n",
              "      let downloaded = 0;\n",
              "\n",
              "      const channel = await google.colab.kernel.comms.open(id);\n",
              "      // Send a message to notify the kernel that we're ready.\n",
              "      channel.send({})\n",
              "\n",
              "      for await (const message of channel.messages) {\n",
              "        // Send a message to notify the kernel that we're ready.\n",
              "        channel.send({})\n",
              "        if (message.buffers) {\n",
              "          for (const buffer of message.buffers) {\n",
              "            buffers.push(buffer);\n",
              "            downloaded += buffer.byteLength;\n",
              "            progress.value = downloaded;\n",
              "          }\n",
              "        }\n",
              "      }\n",
              "      const blob = new Blob(buffers, {type: 'application/binary'});\n",
              "      const a = document.createElement('a');\n",
              "      a.href = window.URL.createObjectURL(blob);\n",
              "      a.download = filename;\n",
              "      div.appendChild(a);\n",
              "      a.click();\n",
              "      div.remove();\n",
              "    }\n",
              "  "
            ],
            "text/plain": [
              "<IPython.core.display.Javascript object>"
            ]
          },
          "metadata": {
            "tags": []
          }
        },
        {
          "output_type": "display_data",
          "data": {
            "application/javascript": [
              "download(\"download_e97e2bae-ad94-4c19-81f3-afcc86be53dd\", \"Num Sol for QHO in 1D.png\", 180092)"
            ],
            "text/plain": [
              "<IPython.core.display.Javascript object>"
            ]
          },
          "metadata": {
            "tags": []
          }
        },
        {
          "output_type": "display_data",
          "data": {
            "image/png": "[encoded data removed]",
            "text/plain": [
              "<Figure size 576x432 with 1 Axes>"
            ]
          },
          "metadata": {
            "tags": [],
            "needs_background": "light"
          }
        }
      ]
    },
    {
      "cell_type": "code",
      "metadata": {
        "id": "woYN0qkXB-cx",
        "outputId": "5dd16391-7155-4949-cc31-b49478505558",
        "colab": {
          "base_uri": "https://localhost:8080/",
          "height": 185
        }
      },
      "source": [
        "for i in range(10):\n",
        "  print('E_'+str(i)+'=', E[i])"
      ],
      "execution_count": null,
      "outputs": [
        {
          "output_type": "stream",
          "text": [
            "E_0= 0.49999\n",
            "E_1= 1.49994\n",
            "E_2= 2.49984\n",
            "E_3= 3.49969\n",
            "E_4= 4.49949\n",
            "E_5= 5.49924\n",
            "E_6= 6.49894\n",
            "E_7= 7.49859\n",
            "E_8= 8.49819\n",
            "E_9= 9.49774\n"
          ],
          "name": "stdout"
        }
      ]
    },
    {
      "cell_type": "code",
      "metadata": {
        "id": "hCfrFzdisaDy"
      },
      "source": [
        ""
      ],
      "execution_count": null,
      "outputs": []
    }
  ]
}